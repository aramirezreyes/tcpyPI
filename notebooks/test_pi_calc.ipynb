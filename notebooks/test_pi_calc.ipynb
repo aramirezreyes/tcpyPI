{
 "cells": [
  {
   "cell_type": "markdown",
   "metadata": {},
   "source": [
    "# Goal"
   ]
  },
  {
   "cell_type": "markdown",
   "metadata": {},
   "source": [
    "This notebook tests the PI code to ensure it runs smoothly and provides reasonable output. A full QC of the code is provided in \"verify_pi\"."
   ]
  },
  {
   "cell_type": "markdown",
   "metadata": {},
   "source": [
    "# Setup"
   ]
  },
  {
   "cell_type": "code",
   "execution_count": 1,
   "metadata": {},
   "outputs": [],
   "source": [
    "import sys\n",
    "sys.path.append(sys.path[0]+'/..')\n",
    "import numpy as np\n",
    "import xarray as xr\n",
    "import matplotlib\n",
    "import matplotlib.pyplot as plt\n",
    "# load PI calculation module\n",
    "from tcpyPI import pi, cape"
   ]
  },
  {
   "cell_type": "code",
   "execution_count": 2,
   "metadata": {},
   "outputs": [],
   "source": [
    "# change default figure font settings\n",
    "font = {'family' : 'sans-serif',\n",
    "        'weight' : 1,\n",
    "        'size'   : 16}\n",
    "\n",
    "matplotlib.rc('font', **font)"
   ]
  },
  {
   "cell_type": "markdown",
   "metadata": {},
   "source": [
    "# Load Data and Code"
   ]
  },
  {
   "cell_type": "code",
   "execution_count": 3,
   "metadata": {},
   "outputs": [],
   "source": [
    "# data location\n",
    "dat_loc='../data/sample_data.nc'"
   ]
  },
  {
   "cell_type": "code",
   "execution_count": 4,
   "metadata": {},
   "outputs": [
    {
     "data": {
      "text/html": [
       "<div><svg style=\"position: absolute; width: 0; height: 0; overflow: hidden\">\n",
       "<defs>\n",
       "<symbol id=\"icon-database\" viewBox=\"0 0 32 32\">\n",
       "<title>Show/Hide data repr</title>\n",
       "<path d=\"M16 0c-8.837 0-16 2.239-16 5v4c0 2.761 7.163 5 16 5s16-2.239 16-5v-4c0-2.761-7.163-5-16-5z\"></path>\n",
       "<path d=\"M16 17c-8.837 0-16-2.239-16-5v6c0 2.761 7.163 5 16 5s16-2.239 16-5v-6c0 2.761-7.163 5-16 5z\"></path>\n",
       "<path d=\"M16 26c-8.837 0-16-2.239-16-5v6c0 2.761 7.163 5 16 5s16-2.239 16-5v-6c0 2.761-7.163 5-16 5z\"></path>\n",
       "</symbol>\n",
       "<symbol id=\"icon-file-text2\" viewBox=\"0 0 32 32\">\n",
       "<title>Show/Hide attributes</title>\n",
       "<path d=\"M28.681 7.159c-0.694-0.947-1.662-2.053-2.724-3.116s-2.169-2.030-3.116-2.724c-1.612-1.182-2.393-1.319-2.841-1.319h-15.5c-1.378 0-2.5 1.121-2.5 2.5v27c0 1.378 1.122 2.5 2.5 2.5h23c1.378 0 2.5-1.122 2.5-2.5v-19.5c0-0.448-0.137-1.23-1.319-2.841zM24.543 5.457c0.959 0.959 1.712 1.825 2.268 2.543h-4.811v-4.811c0.718 0.556 1.584 1.309 2.543 2.268zM28 29.5c0 0.271-0.229 0.5-0.5 0.5h-23c-0.271 0-0.5-0.229-0.5-0.5v-27c0-0.271 0.229-0.5 0.5-0.5 0 0 15.499-0 15.5 0v7c0 0.552 0.448 1 1 1h7v19.5z\"></path>\n",
       "<path d=\"M23 26h-14c-0.552 0-1-0.448-1-1s0.448-1 1-1h14c0.552 0 1 0.448 1 1s-0.448 1-1 1z\"></path>\n",
       "<path d=\"M23 22h-14c-0.552 0-1-0.448-1-1s0.448-1 1-1h14c0.552 0 1 0.448 1 1s-0.448 1-1 1z\"></path>\n",
       "<path d=\"M23 18h-14c-0.552 0-1-0.448-1-1s0.448-1 1-1h14c0.552 0 1 0.448 1 1s-0.448 1-1 1z\"></path>\n",
       "</symbol>\n",
       "</defs>\n",
       "</svg>\n",
       "<style>/* CSS stylesheet for displaying xarray objects in jupyterlab.\n",
       " *\n",
       " */\n",
       "\n",
       ":root {\n",
       "  --xr-font-color0: var(--jp-content-font-color0, rgba(0, 0, 0, 1));\n",
       "  --xr-font-color2: var(--jp-content-font-color2, rgba(0, 0, 0, 0.54));\n",
       "  --xr-font-color3: var(--jp-content-font-color3, rgba(0, 0, 0, 0.38));\n",
       "  --xr-border-color: var(--jp-border-color2, #e0e0e0);\n",
       "  --xr-disabled-color: var(--jp-layout-color3, #bdbdbd);\n",
       "  --xr-background-color: var(--jp-layout-color0, white);\n",
       "  --xr-background-color-row-even: var(--jp-layout-color1, white);\n",
       "  --xr-background-color-row-odd: var(--jp-layout-color2, #eeeeee);\n",
       "}\n",
       "\n",
       ".xr-wrap {\n",
       "  min-width: 300px;\n",
       "  max-width: 700px;\n",
       "}\n",
       "\n",
       ".xr-header {\n",
       "  padding-top: 6px;\n",
       "  padding-bottom: 6px;\n",
       "  margin-bottom: 4px;\n",
       "  border-bottom: solid 1px var(--xr-border-color);\n",
       "}\n",
       "\n",
       ".xr-header > div,\n",
       ".xr-header > ul {\n",
       "  display: inline;\n",
       "  margin-top: 0;\n",
       "  margin-bottom: 0;\n",
       "}\n",
       "\n",
       ".xr-obj-type,\n",
       ".xr-array-name {\n",
       "  margin-left: 2px;\n",
       "  margin-right: 10px;\n",
       "}\n",
       "\n",
       ".xr-obj-type {\n",
       "  color: var(--xr-font-color2);\n",
       "}\n",
       "\n",
       ".xr-sections {\n",
       "  padding-left: 0 !important;\n",
       "  display: grid;\n",
       "  grid-template-columns: 150px auto auto 1fr 20px 20px;\n",
       "}\n",
       "\n",
       ".xr-section-item {\n",
       "  display: contents;\n",
       "}\n",
       "\n",
       ".xr-section-item input {\n",
       "  display: none;\n",
       "}\n",
       "\n",
       ".xr-section-item input + label {\n",
       "  color: var(--xr-disabled-color);\n",
       "}\n",
       "\n",
       ".xr-section-item input:enabled + label {\n",
       "  cursor: pointer;\n",
       "  color: var(--xr-font-color2);\n",
       "}\n",
       "\n",
       ".xr-section-item input:enabled + label:hover {\n",
       "  color: var(--xr-font-color0);\n",
       "}\n",
       "\n",
       ".xr-section-summary {\n",
       "  grid-column: 1;\n",
       "  color: var(--xr-font-color2);\n",
       "  font-weight: 500;\n",
       "}\n",
       "\n",
       ".xr-section-summary > span {\n",
       "  display: inline-block;\n",
       "  padding-left: 0.5em;\n",
       "}\n",
       "\n",
       ".xr-section-summary-in:disabled + label {\n",
       "  color: var(--xr-font-color2);\n",
       "}\n",
       "\n",
       ".xr-section-summary-in + label:before {\n",
       "  display: inline-block;\n",
       "  content: '►';\n",
       "  font-size: 11px;\n",
       "  width: 15px;\n",
       "  text-align: center;\n",
       "}\n",
       "\n",
       ".xr-section-summary-in:disabled + label:before {\n",
       "  color: var(--xr-disabled-color);\n",
       "}\n",
       "\n",
       ".xr-section-summary-in:checked + label:before {\n",
       "  content: '▼';\n",
       "}\n",
       "\n",
       ".xr-section-summary-in:checked + label > span {\n",
       "  display: none;\n",
       "}\n",
       "\n",
       ".xr-section-summary,\n",
       ".xr-section-inline-details {\n",
       "  padding-top: 4px;\n",
       "  padding-bottom: 4px;\n",
       "}\n",
       "\n",
       ".xr-section-inline-details {\n",
       "  grid-column: 2 / -1;\n",
       "}\n",
       "\n",
       ".xr-section-details {\n",
       "  display: none;\n",
       "  grid-column: 1 / -1;\n",
       "  margin-bottom: 5px;\n",
       "}\n",
       "\n",
       ".xr-section-summary-in:checked ~ .xr-section-details {\n",
       "  display: contents;\n",
       "}\n",
       "\n",
       ".xr-array-wrap {\n",
       "  grid-column: 1 / -1;\n",
       "  display: grid;\n",
       "  grid-template-columns: 20px auto;\n",
       "}\n",
       "\n",
       ".xr-array-wrap > label {\n",
       "  grid-column: 1;\n",
       "  vertical-align: top;\n",
       "}\n",
       "\n",
       ".xr-preview {\n",
       "  color: var(--xr-font-color3);\n",
       "}\n",
       "\n",
       ".xr-array-preview,\n",
       ".xr-array-data {\n",
       "  padding: 0 5px !important;\n",
       "  grid-column: 2;\n",
       "}\n",
       "\n",
       ".xr-array-data,\n",
       ".xr-array-in:checked ~ .xr-array-preview {\n",
       "  display: none;\n",
       "}\n",
       "\n",
       ".xr-array-in:checked ~ .xr-array-data,\n",
       ".xr-array-preview {\n",
       "  display: inline-block;\n",
       "}\n",
       "\n",
       ".xr-dim-list {\n",
       "  display: inline-block !important;\n",
       "  list-style: none;\n",
       "  padding: 0 !important;\n",
       "  margin: 0;\n",
       "}\n",
       "\n",
       ".xr-dim-list li {\n",
       "  display: inline-block;\n",
       "  padding: 0;\n",
       "  margin: 0;\n",
       "}\n",
       "\n",
       ".xr-dim-list:before {\n",
       "  content: '(';\n",
       "}\n",
       "\n",
       ".xr-dim-list:after {\n",
       "  content: ')';\n",
       "}\n",
       "\n",
       ".xr-dim-list li:not(:last-child):after {\n",
       "  content: ',';\n",
       "  padding-right: 5px;\n",
       "}\n",
       "\n",
       ".xr-has-index {\n",
       "  font-weight: bold;\n",
       "}\n",
       "\n",
       ".xr-var-list,\n",
       ".xr-var-item {\n",
       "  display: contents;\n",
       "}\n",
       "\n",
       ".xr-var-item > div,\n",
       ".xr-var-item label,\n",
       ".xr-var-item > .xr-var-name span {\n",
       "  background-color: var(--xr-background-color-row-even);\n",
       "  margin-bottom: 0;\n",
       "}\n",
       "\n",
       ".xr-var-item > .xr-var-name:hover span {\n",
       "  padding-right: 5px;\n",
       "}\n",
       "\n",
       ".xr-var-list > li:nth-child(odd) > div,\n",
       ".xr-var-list > li:nth-child(odd) > label,\n",
       ".xr-var-list > li:nth-child(odd) > .xr-var-name span {\n",
       "  background-color: var(--xr-background-color-row-odd);\n",
       "}\n",
       "\n",
       ".xr-var-name {\n",
       "  grid-column: 1;\n",
       "}\n",
       "\n",
       ".xr-var-dims {\n",
       "  grid-column: 2;\n",
       "}\n",
       "\n",
       ".xr-var-dtype {\n",
       "  grid-column: 3;\n",
       "  text-align: right;\n",
       "  color: var(--xr-font-color2);\n",
       "}\n",
       "\n",
       ".xr-var-preview {\n",
       "  grid-column: 4;\n",
       "}\n",
       "\n",
       ".xr-var-name,\n",
       ".xr-var-dims,\n",
       ".xr-var-dtype,\n",
       ".xr-preview,\n",
       ".xr-attrs dt {\n",
       "  white-space: nowrap;\n",
       "  overflow: hidden;\n",
       "  text-overflow: ellipsis;\n",
       "  padding-right: 10px;\n",
       "}\n",
       "\n",
       ".xr-var-name:hover,\n",
       ".xr-var-dims:hover,\n",
       ".xr-var-dtype:hover,\n",
       ".xr-attrs dt:hover {\n",
       "  overflow: visible;\n",
       "  width: auto;\n",
       "  z-index: 1;\n",
       "}\n",
       "\n",
       ".xr-var-attrs,\n",
       ".xr-var-data {\n",
       "  display: none;\n",
       "  background-color: var(--xr-background-color) !important;\n",
       "  padding-bottom: 5px !important;\n",
       "}\n",
       "\n",
       ".xr-var-attrs-in:checked ~ .xr-var-attrs,\n",
       ".xr-var-data-in:checked ~ .xr-var-data {\n",
       "  display: block;\n",
       "}\n",
       "\n",
       ".xr-var-data > table {\n",
       "  float: right;\n",
       "}\n",
       "\n",
       ".xr-var-name span,\n",
       ".xr-var-data,\n",
       ".xr-attrs {\n",
       "  padding-left: 25px !important;\n",
       "}\n",
       "\n",
       ".xr-attrs,\n",
       ".xr-var-attrs,\n",
       ".xr-var-data {\n",
       "  grid-column: 1 / -1;\n",
       "}\n",
       "\n",
       "dl.xr-attrs {\n",
       "  padding: 0;\n",
       "  margin: 0;\n",
       "  display: grid;\n",
       "  grid-template-columns: 125px auto;\n",
       "}\n",
       "\n",
       ".xr-attrs dt, dd {\n",
       "  padding: 0;\n",
       "  margin: 0;\n",
       "  float: left;\n",
       "  padding-right: 10px;\n",
       "  width: auto;\n",
       "}\n",
       "\n",
       ".xr-attrs dt {\n",
       "  font-weight: normal;\n",
       "  grid-column: 1;\n",
       "}\n",
       "\n",
       ".xr-attrs dt:hover span {\n",
       "  display: inline-block;\n",
       "  background: var(--xr-background-color);\n",
       "  padding-right: 10px;\n",
       "}\n",
       "\n",
       ".xr-attrs dd {\n",
       "  grid-column: 2;\n",
       "  white-space: pre-wrap;\n",
       "  word-break: break-all;\n",
       "}\n",
       "\n",
       ".xr-icon-database,\n",
       ".xr-icon-file-text2 {\n",
       "  display: inline-block;\n",
       "  vertical-align: middle;\n",
       "  width: 1em;\n",
       "  height: 1.5em !important;\n",
       "  stroke-width: 0;\n",
       "  stroke: currentColor;\n",
       "  fill: currentColor;\n",
       "}\n",
       "</style><div class='xr-wrap'><div class='xr-header'><div class='xr-obj-type'>xarray.Dataset</div></div><ul class='xr-sections'><li class='xr-section-item'><input id='section-511d6674-4eb8-4ae1-863e-44962008f808' class='xr-section-summary-in' type='checkbox' disabled ><label for='section-511d6674-4eb8-4ae1-863e-44962008f808' class='xr-section-summary'  title='Expand/collapse section'>Dimensions:</label><div class='xr-section-inline-details'><ul class='xr-dim-list'><li><span class='xr-has-index'>lat</span>: 73</li><li><span class='xr-has-index'>lon</span>: 144</li><li><span class='xr-has-index'>month</span>: 12</li><li><span class='xr-has-index'>p</span>: 31</li></ul></div><div class='xr-section-details'></div></li><li class='xr-section-item'><input id='section-1c091817-cf19-471b-8154-8d1784cf517f' class='xr-section-summary-in' type='checkbox'  checked><label for='section-1c091817-cf19-471b-8154-8d1784cf517f' class='xr-section-summary' >Coordinates: <span>(4)</span></label><div class='xr-section-inline-details'></div><div class='xr-section-details'><ul class='xr-var-list'><li class='xr-var-item'><div class='xr-var-name'><span class='xr-has-index'>p</span></div><div class='xr-var-dims'>(p)</div><div class='xr-var-dtype'>float64</div><div class='xr-var-preview xr-preview'>1e+03 975.0 950.0 ... 20.0 10.0</div><input id='attrs-74627ed9-6c86-448c-a54e-766bfbbf7c5d' class='xr-var-attrs-in' type='checkbox' ><label for='attrs-74627ed9-6c86-448c-a54e-766bfbbf7c5d' title='Show/Hide attributes'><svg class='icon xr-icon-file-text2'><use xlink:href='#icon-file-text2'></use></svg></label><input id='data-00de3476-7236-4ee7-9b79-3e93bc6425bf' class='xr-var-data-in' type='checkbox'><label for='data-00de3476-7236-4ee7-9b79-3e93bc6425bf' title='Show/Hide data repr'><svg class='icon xr-icon-database'><use xlink:href='#icon-database'></use></svg></label><div class='xr-var-attrs'><dl class='xr-attrs'><dt><span>standard_name :</span></dt><dd>Atmospheric Pressure</dd><dt><span>units :</span></dt><dd>hPa</dd></dl></div><pre class='xr-var-data'>array([1000.,  975.,  950.,  925.,  900.,  875.,  850.,  825.,  800.,  775.,\n",
       "        750.,  725.,  700.,  650.,  600.,  550.,  500.,  450.,  400.,  350.,\n",
       "        300.,  250.,  200.,  150.,  100.,   70.,   50.,   40.,   30.,   20.,\n",
       "         10.])</pre></li><li class='xr-var-item'><div class='xr-var-name'><span class='xr-has-index'>lat</span></div><div class='xr-var-dims'>(lat)</div><div class='xr-var-dtype'>float64</div><div class='xr-var-preview xr-preview'>90.0 87.5 85.0 ... -87.5 -90.0</div><input id='attrs-b627901a-3cc6-4adf-921a-2707d5f5b408' class='xr-var-attrs-in' type='checkbox' ><label for='attrs-b627901a-3cc6-4adf-921a-2707d5f5b408' title='Show/Hide attributes'><svg class='icon xr-icon-file-text2'><use xlink:href='#icon-file-text2'></use></svg></label><input id='data-08605795-e279-41cb-bfd8-bed30c076785' class='xr-var-data-in' type='checkbox'><label for='data-08605795-e279-41cb-bfd8-bed30c076785' title='Show/Hide data repr'><svg class='icon xr-icon-database'><use xlink:href='#icon-database'></use></svg></label><div class='xr-var-attrs'><dl class='xr-attrs'><dt><span>standard_name :</span></dt><dd>Latitude</dd><dt><span>units :</span></dt><dd>degrees</dd></dl></div><pre class='xr-var-data'>array([ 90. ,  87.5,  85. ,  82.5,  80. ,  77.5,  75. ,  72.5,  70. ,  67.5,\n",
       "        65. ,  62.5,  60. ,  57.5,  55. ,  52.5,  50. ,  47.5,  45. ,  42.5,\n",
       "        40. ,  37.5,  35. ,  32.5,  30. ,  27.5,  25. ,  22.5,  20. ,  17.5,\n",
       "        15. ,  12.5,  10. ,   7.5,   5. ,   2.5,   0. ,  -2.5,  -5. ,  -7.5,\n",
       "       -10. , -12.5, -15. , -17.5, -20. , -22.5, -25. , -27.5, -30. , -32.5,\n",
       "       -35. , -37.5, -40. , -42.5, -45. , -47.5, -50. , -52.5, -55. , -57.5,\n",
       "       -60. , -62.5, -65. , -67.5, -70. , -72.5, -75. , -77.5, -80. , -82.5,\n",
       "       -85. , -87.5, -90. ])</pre></li><li class='xr-var-item'><div class='xr-var-name'><span class='xr-has-index'>lon</span></div><div class='xr-var-dims'>(lon)</div><div class='xr-var-dtype'>float64</div><div class='xr-var-preview xr-preview'>-180.0 -177.5 ... 175.0 177.5</div><input id='attrs-670a67b1-c515-4cf9-9f13-b5b832771bb3' class='xr-var-attrs-in' type='checkbox' ><label for='attrs-670a67b1-c515-4cf9-9f13-b5b832771bb3' title='Show/Hide attributes'><svg class='icon xr-icon-file-text2'><use xlink:href='#icon-file-text2'></use></svg></label><input id='data-dbea829a-2a9a-43f9-9dac-b5b40750cc8b' class='xr-var-data-in' type='checkbox'><label for='data-dbea829a-2a9a-43f9-9dac-b5b40750cc8b' title='Show/Hide data repr'><svg class='icon xr-icon-database'><use xlink:href='#icon-database'></use></svg></label><div class='xr-var-attrs'><dl class='xr-attrs'><dt><span>standard_name :</span></dt><dd>Longitude</dd><dt><span>units :</span></dt><dd>degrees</dd></dl></div><pre class='xr-var-data'>array([-180. , -177.5, -175. , -172.5, -170. , -167.5, -165. , -162.5, -160. ,\n",
       "       -157.5, -155. , -152.5, -150. , -147.5, -145. , -142.5, -140. , -137.5,\n",
       "       -135. , -132.5, -130. , -127.5, -125. , -122.5, -120. , -117.5, -115. ,\n",
       "       -112.5, -110. , -107.5, -105. , -102.5, -100. ,  -97.5,  -95. ,  -92.5,\n",
       "        -90. ,  -87.5,  -85. ,  -82.5,  -80. ,  -77.5,  -75. ,  -72.5,  -70. ,\n",
       "        -67.5,  -65. ,  -62.5,  -60. ,  -57.5,  -55. ,  -52.5,  -50. ,  -47.5,\n",
       "        -45. ,  -42.5,  -40. ,  -37.5,  -35. ,  -32.5,  -30. ,  -27.5,  -25. ,\n",
       "        -22.5,  -20. ,  -17.5,  -15. ,  -12.5,  -10. ,   -7.5,   -5. ,   -2.5,\n",
       "          0. ,    2.5,    5. ,    7.5,   10. ,   12.5,   15. ,   17.5,   20. ,\n",
       "         22.5,   25. ,   27.5,   30. ,   32.5,   35. ,   37.5,   40. ,   42.5,\n",
       "         45. ,   47.5,   50. ,   52.5,   55. ,   57.5,   60. ,   62.5,   65. ,\n",
       "         67.5,   70. ,   72.5,   75. ,   77.5,   80. ,   82.5,   85. ,   87.5,\n",
       "         90. ,   92.5,   95. ,   97.5,  100. ,  102.5,  105. ,  107.5,  110. ,\n",
       "        112.5,  115. ,  117.5,  120. ,  122.5,  125. ,  127.5,  130. ,  132.5,\n",
       "        135. ,  137.5,  140. ,  142.5,  145. ,  147.5,  150. ,  152.5,  155. ,\n",
       "        157.5,  160. ,  162.5,  165. ,  167.5,  170. ,  172.5,  175. ,  177.5])</pre></li><li class='xr-var-item'><div class='xr-var-name'><span class='xr-has-index'>month</span></div><div class='xr-var-dims'>(month)</div><div class='xr-var-dtype'>float64</div><div class='xr-var-preview xr-preview'>1.0 2.0 3.0 4.0 ... 10.0 11.0 12.0</div><input id='attrs-b4ce970d-28b5-45b1-ac45-220ce752d285' class='xr-var-attrs-in' type='checkbox' ><label for='attrs-b4ce970d-28b5-45b1-ac45-220ce752d285' title='Show/Hide attributes'><svg class='icon xr-icon-file-text2'><use xlink:href='#icon-file-text2'></use></svg></label><input id='data-e1436b1b-edea-4971-8b90-c1e0ab3387c9' class='xr-var-data-in' type='checkbox'><label for='data-e1436b1b-edea-4971-8b90-c1e0ab3387c9' title='Show/Hide data repr'><svg class='icon xr-icon-database'><use xlink:href='#icon-database'></use></svg></label><div class='xr-var-attrs'><dl class='xr-attrs'><dt><span>standard_name :</span></dt><dd>Month</dd><dt><span>units :</span></dt><dd>Month Number</dd></dl></div><pre class='xr-var-data'>array([ 1.,  2.,  3.,  4.,  5.,  6.,  7.,  8.,  9., 10., 11., 12.])</pre></li></ul></div></li><li class='xr-section-item'><input id='section-9d28038c-23af-4704-8d6b-ddb6da052758' class='xr-section-summary-in' type='checkbox'  checked><label for='section-9d28038c-23af-4704-8d6b-ddb6da052758' class='xr-section-summary' >Data variables: <span>(10)</span></label><div class='xr-section-inline-details'></div><div class='xr-section-details'><ul class='xr-var-list'><li class='xr-var-item'><div class='xr-var-name'><span>lsm</span></div><div class='xr-var-dims'>(lat, lon)</div><div class='xr-var-dtype'>float64</div><div class='xr-var-preview xr-preview'>...</div><input id='attrs-92ad97e5-2256-4b0e-824e-72eedaf6cfbe' class='xr-var-attrs-in' type='checkbox' ><label for='attrs-92ad97e5-2256-4b0e-824e-72eedaf6cfbe' title='Show/Hide attributes'><svg class='icon xr-icon-file-text2'><use xlink:href='#icon-file-text2'></use></svg></label><input id='data-61be47e8-9e2f-45a3-80a8-35a0bc360c86' class='xr-var-data-in' type='checkbox'><label for='data-61be47e8-9e2f-45a3-80a8-35a0bc360c86' title='Show/Hide data repr'><svg class='icon xr-icon-database'><use xlink:href='#icon-database'></use></svg></label><div class='xr-var-attrs'><dl class='xr-attrs'><dt><span>standard_name :</span></dt><dd>ERA-I Land-sea Mask</dd><dt><span>units :</span></dt><dd>0=Ocean, 1=Land</dd></dl></div><pre class='xr-var-data'>array([[0., 0., 0., ..., 0., 0., 0.],\n",
       "       [0., 0., 0., ..., 0., 0., 0.],\n",
       "       [0., 0., 0., ..., 0., 0., 0.],\n",
       "       ...,\n",
       "       [1., 1., 1., ..., 1., 1., 1.],\n",
       "       [1., 1., 1., ..., 1., 1., 1.],\n",
       "       [1., 1., 1., ..., 1., 1., 1.]])</pre></li><li class='xr-var-item'><div class='xr-var-name'><span>sst</span></div><div class='xr-var-dims'>(month, lat, lon)</div><div class='xr-var-dtype'>float64</div><div class='xr-var-preview xr-preview'>...</div><input id='attrs-ee3324b5-6f1a-492b-9e97-b10957042a7d' class='xr-var-attrs-in' type='checkbox' ><label for='attrs-ee3324b5-6f1a-492b-9e97-b10957042a7d' title='Show/Hide attributes'><svg class='icon xr-icon-file-text2'><use xlink:href='#icon-file-text2'></use></svg></label><input id='data-ac5622f1-b730-43a1-89b3-9fa20e336054' class='xr-var-data-in' type='checkbox'><label for='data-ac5622f1-b730-43a1-89b3-9fa20e336054' title='Show/Hide data repr'><svg class='icon xr-icon-database'><use xlink:href='#icon-database'></use></svg></label><div class='xr-var-attrs'><dl class='xr-attrs'><dt><span>standard_name :</span></dt><dd>Sea Surface Temperature</dd><dt><span>units :</span></dt><dd>degrees C</dd></dl></div><pre class='xr-var-data'>[126144 values with dtype=float64]</pre></li><li class='xr-var-item'><div class='xr-var-name'><span>msl</span></div><div class='xr-var-dims'>(month, lat, lon)</div><div class='xr-var-dtype'>float64</div><div class='xr-var-preview xr-preview'>...</div><input id='attrs-b5f7e179-df98-41fb-b527-c556a7403803' class='xr-var-attrs-in' type='checkbox' ><label for='attrs-b5f7e179-df98-41fb-b527-c556a7403803' title='Show/Hide attributes'><svg class='icon xr-icon-file-text2'><use xlink:href='#icon-file-text2'></use></svg></label><input id='data-9a12fa75-0534-4b2f-a4a3-e446ab76460e' class='xr-var-data-in' type='checkbox'><label for='data-9a12fa75-0534-4b2f-a4a3-e446ab76460e' title='Show/Hide data repr'><svg class='icon xr-icon-database'><use xlink:href='#icon-database'></use></svg></label><div class='xr-var-attrs'><dl class='xr-attrs'><dt><span>standard_name :</span></dt><dd>Mean Sea Level Pressure</dd><dt><span>units :</span></dt><dd>hPa</dd></dl></div><pre class='xr-var-data'>[126144 values with dtype=float64]</pre></li><li class='xr-var-item'><div class='xr-var-name'><span>t</span></div><div class='xr-var-dims'>(month, p, lat, lon)</div><div class='xr-var-dtype'>float64</div><div class='xr-var-preview xr-preview'>...</div><input id='attrs-6a81d270-023a-46a2-96a3-3932247f2652' class='xr-var-attrs-in' type='checkbox' ><label for='attrs-6a81d270-023a-46a2-96a3-3932247f2652' title='Show/Hide attributes'><svg class='icon xr-icon-file-text2'><use xlink:href='#icon-file-text2'></use></svg></label><input id='data-cd535c37-80a3-4368-9045-f7171b4be25c' class='xr-var-data-in' type='checkbox'><label for='data-cd535c37-80a3-4368-9045-f7171b4be25c' title='Show/Hide data repr'><svg class='icon xr-icon-database'><use xlink:href='#icon-database'></use></svg></label><div class='xr-var-attrs'><dl class='xr-attrs'><dt><span>standard_name :</span></dt><dd>Atmospheric Temperature</dd><dt><span>units :</span></dt><dd>degrees C</dd></dl></div><pre class='xr-var-data'>[3910464 values with dtype=float64]</pre></li><li class='xr-var-item'><div class='xr-var-name'><span>q</span></div><div class='xr-var-dims'>(month, p, lat, lon)</div><div class='xr-var-dtype'>float64</div><div class='xr-var-preview xr-preview'>...</div><input id='attrs-654c2ae8-1fdd-4e90-828e-454aa27a636a' class='xr-var-attrs-in' type='checkbox' ><label for='attrs-654c2ae8-1fdd-4e90-828e-454aa27a636a' title='Show/Hide attributes'><svg class='icon xr-icon-file-text2'><use xlink:href='#icon-file-text2'></use></svg></label><input id='data-13f7be47-7f5a-48de-a1a1-150a9a1ee0c4' class='xr-var-data-in' type='checkbox'><label for='data-13f7be47-7f5a-48de-a1a1-150a9a1ee0c4' title='Show/Hide data repr'><svg class='icon xr-icon-database'><use xlink:href='#icon-database'></use></svg></label><div class='xr-var-attrs'><dl class='xr-attrs'><dt><span>standard_name :</span></dt><dd>Specific Humidity</dd><dt><span>units :</span></dt><dd>g/kg</dd></dl></div><pre class='xr-var-data'>[3910464 values with dtype=float64]</pre></li><li class='xr-var-item'><div class='xr-var-name'><span>Vmax</span></div><div class='xr-var-dims'>(month, lat, lon)</div><div class='xr-var-dtype'>float64</div><div class='xr-var-preview xr-preview'>...</div><input id='attrs-92de016f-29a7-4a5c-bfd3-a2808beb4c70' class='xr-var-attrs-in' type='checkbox' ><label for='attrs-92de016f-29a7-4a5c-bfd3-a2808beb4c70' title='Show/Hide attributes'><svg class='icon xr-icon-file-text2'><use xlink:href='#icon-file-text2'></use></svg></label><input id='data-6041bc06-04c7-45a5-b9db-7fbad84bf87c' class='xr-var-data-in' type='checkbox'><label for='data-6041bc06-04c7-45a5-b9db-7fbad84bf87c' title='Show/Hide data repr'><svg class='icon xr-icon-database'><use xlink:href='#icon-database'></use></svg></label><div class='xr-var-attrs'><dl class='xr-attrs'><dt><span>standard_name :</span></dt><dd>Maximum Potential Intensity</dd><dt><span>units :</span></dt><dd>m/s</dd></dl></div><pre class='xr-var-data'>[126144 values with dtype=float64]</pre></li><li class='xr-var-item'><div class='xr-var-name'><span>To</span></div><div class='xr-var-dims'>(month, lat, lon)</div><div class='xr-var-dtype'>float64</div><div class='xr-var-preview xr-preview'>...</div><input id='attrs-9f733fb6-db01-4f14-818f-46f8e5284add' class='xr-var-attrs-in' type='checkbox' ><label for='attrs-9f733fb6-db01-4f14-818f-46f8e5284add' title='Show/Hide attributes'><svg class='icon xr-icon-file-text2'><use xlink:href='#icon-file-text2'></use></svg></label><input id='data-583feeb9-2413-4a19-824a-c52f92a9a23f' class='xr-var-data-in' type='checkbox'><label for='data-583feeb9-2413-4a19-824a-c52f92a9a23f' title='Show/Hide data repr'><svg class='icon xr-icon-database'><use xlink:href='#icon-database'></use></svg></label><div class='xr-var-attrs'><dl class='xr-attrs'><dt><span>standard_name :</span></dt><dd>Outflow Temperature</dd><dt><span>units :</span></dt><dd>kelvin</dd></dl></div><pre class='xr-var-data'>[126144 values with dtype=float64]</pre></li><li class='xr-var-item'><div class='xr-var-name'><span>Pmin</span></div><div class='xr-var-dims'>(month, lat, lon)</div><div class='xr-var-dtype'>float64</div><div class='xr-var-preview xr-preview'>...</div><input id='attrs-86f603a6-ebce-48f9-8528-82dce146679d' class='xr-var-attrs-in' type='checkbox' ><label for='attrs-86f603a6-ebce-48f9-8528-82dce146679d' title='Show/Hide attributes'><svg class='icon xr-icon-file-text2'><use xlink:href='#icon-file-text2'></use></svg></label><input id='data-71d1ee8c-20ae-4dba-acde-4147e419e32f' class='xr-var-data-in' type='checkbox'><label for='data-71d1ee8c-20ae-4dba-acde-4147e419e32f' title='Show/Hide data repr'><svg class='icon xr-icon-database'><use xlink:href='#icon-database'></use></svg></label><div class='xr-var-attrs'><dl class='xr-attrs'><dt><span>standard_name :</span></dt><dd>Minimum Central Pressure</dd><dt><span>units :</span></dt><dd>hPa</dd></dl></div><pre class='xr-var-data'>[126144 values with dtype=float64]</pre></li><li class='xr-var-item'><div class='xr-var-name'><span>LNB</span></div><div class='xr-var-dims'>(month, lat, lon)</div><div class='xr-var-dtype'>float64</div><div class='xr-var-preview xr-preview'>...</div><input id='attrs-6777f252-df50-4fbb-b7d9-9fa4c9ac4f58' class='xr-var-attrs-in' type='checkbox' ><label for='attrs-6777f252-df50-4fbb-b7d9-9fa4c9ac4f58' title='Show/Hide attributes'><svg class='icon xr-icon-file-text2'><use xlink:href='#icon-file-text2'></use></svg></label><input id='data-aa82fe2a-981b-479f-b08b-85637be59f96' class='xr-var-data-in' type='checkbox'><label for='data-aa82fe2a-981b-479f-b08b-85637be59f96' title='Show/Hide data repr'><svg class='icon xr-icon-database'><use xlink:href='#icon-database'></use></svg></label><div class='xr-var-attrs'><dl class='xr-attrs'><dt><span>standard_name :</span></dt><dd>Level of Neutral Bouyancy for a Parcel Reversibly Lifted from Sea Level</dd><dt><span>units :</span></dt><dd>hPa</dd></dl></div><pre class='xr-var-data'>[126144 values with dtype=float64]</pre></li><li class='xr-var-item'><div class='xr-var-name'><span>PI_flag</span></div><div class='xr-var-dims'>(month, lat, lon)</div><div class='xr-var-dtype'>float64</div><div class='xr-var-preview xr-preview'>...</div><input id='attrs-816305af-fe81-47dd-ac3f-4c84b68d665e' class='xr-var-attrs-in' type='checkbox' ><label for='attrs-816305af-fe81-47dd-ac3f-4c84b68d665e' title='Show/Hide attributes'><svg class='icon xr-icon-file-text2'><use xlink:href='#icon-file-text2'></use></svg></label><input id='data-c477bcbd-a179-4b78-bb06-f945ca201c0f' class='xr-var-data-in' type='checkbox'><label for='data-c477bcbd-a179-4b78-bb06-f945ca201c0f' title='Show/Hide data repr'><svg class='icon xr-icon-database'><use xlink:href='#icon-database'></use></svg></label><div class='xr-var-attrs'><dl class='xr-attrs'><dt><span>standard_name :</span></dt><dd>Flag for BE02 algorithm</dd></dl></div><pre class='xr-var-data'>[126144 values with dtype=float64]</pre></li></ul></div></li><li class='xr-section-item'><input id='section-313c5f1e-48b5-4313-9051-07e27359f11d' class='xr-section-summary-in' type='checkbox' disabled ><label for='section-313c5f1e-48b5-4313-9051-07e27359f11d' class='xr-section-summary'  title='Expand/collapse section'>Attributes: <span>(0)</span></label><div class='xr-section-inline-details'></div><div class='xr-section-details'><dl class='xr-attrs'></dl></div></li></ul></div></div>"
      ],
      "text/plain": [
       "<xarray.Dataset>\n",
       "Dimensions:  (lat: 73, lon: 144, month: 12, p: 31)\n",
       "Coordinates:\n",
       "  * p        (p) float64 1e+03 975.0 950.0 925.0 900.0 ... 40.0 30.0 20.0 10.0\n",
       "  * lat      (lat) float64 90.0 87.5 85.0 82.5 80.0 ... -82.5 -85.0 -87.5 -90.0\n",
       "  * lon      (lon) float64 -180.0 -177.5 -175.0 -172.5 ... 172.5 175.0 177.5\n",
       "  * month    (month) float64 1.0 2.0 3.0 4.0 5.0 6.0 7.0 8.0 9.0 10.0 11.0 12.0\n",
       "Data variables:\n",
       "    lsm      (lat, lon) float64 ...\n",
       "    sst      (month, lat, lon) float64 ...\n",
       "    msl      (month, lat, lon) float64 ...\n",
       "    t        (month, p, lat, lon) float64 ...\n",
       "    q        (month, p, lat, lon) float64 ...\n",
       "    Vmax     (month, lat, lon) float64 ...\n",
       "    To       (month, lat, lon) float64 ...\n",
       "    Pmin     (month, lat, lon) float64 ...\n",
       "    LNB      (month, lat, lon) float64 ...\n",
       "    PI_flag  (month, lat, lon) float64 ..."
      ]
     },
     "execution_count": 4,
     "metadata": {},
     "output_type": "execute_result"
    }
   ],
   "source": [
    "# load and view netcdf file\n",
    "ds = xr.open_dataset(dat_loc)\n",
    "ds"
   ]
  },
  {
   "cell_type": "markdown",
   "metadata": {},
   "source": [
    "### Check Data Load"
   ]
  },
  {
   "cell_type": "code",
   "execution_count": 5,
   "metadata": {},
   "outputs": [
    {
     "data": {
      "image/png": "[encoded data removed]",
      "text/plain": [
       "<Figure size 576x360 with 1 Axes>"
      ]
     },
     "metadata": {
      "needs_background": "light"
     },
     "output_type": "display_data"
    }
   ],
   "source": [
    "# view the land-sea mask as a sanity check of our data loading\n",
    "plt.figure(figsize=(8,5))\n",
    "plt.contour(ds.lon,ds.lat,ds.lsm,[0.1,],colors='k',linewidths=2.5)\n",
    "plt.xlabel(ds.lon.standard_name)\n",
    "plt.ylabel(ds.lat.standard_name)\n",
    "plt.title(ds.lsm.standard_name)\n",
    "plt.show()"
   ]
  },
  {
   "cell_type": "markdown",
   "metadata": {},
   "source": [
    "# Test CAPE calculation"
   ]
  },
  {
   "cell_type": "markdown",
   "metadata": {},
   "source": [
    "### Grab one profile from the NA and plot"
   ]
  },
  {
   "cell_type": "code",
   "execution_count": 6,
   "metadata": {},
   "outputs": [],
   "source": [
    "# choose a location and month\n",
    "want_lat=10\n",
    "want_lon=-180\n",
    "want_mon=9\n",
    "# find the index of the profile\n",
    "xi=np.where(ds.lon==want_lon)[0][0]\n",
    "yi=np.where(ds.lat==want_lat)[0][0]\n",
    "moni=int(want_mon)\n",
    "# moni,yi,xi=0,19,76\n",
    "# get the profile and input values\n",
    "p1=np.asarray(ds.p)\n",
    "t1=np.asarray(ds.t.isel(lat=yi,lon=xi,month=moni))\n",
    "q1=np.asarray(ds.q.isel(lat=yi,lon=xi,month=moni))\n",
    "sst1=np.asarray(ds.sst.isel(lat=yi,lon=xi,month=moni))\n",
    "msl1=np.asarray(ds.msl.isel(lat=yi,lon=xi,month=moni))\n",
    "# get the output values\n",
    "to1=np.asarray(ds.To.isel(lat=yi,lon=xi,month=moni))\n",
    "pi1=np.asarray(ds.Vmax.isel(lat=yi,lon=xi,month=moni))\n",
    "pmin1=np.asarray(ds.Pmin.isel(lat=yi,lon=xi,month=moni))\n",
    "lnb1=np.asarray(ds.LNB.isel(lat=yi,lon=xi,month=moni))\n",
    "flag1=np.asarray(ds.PI_flag.isel(lat=yi,lon=xi,month=moni))"
   ]
  },
  {
   "cell_type": "code",
   "execution_count": 7,
   "metadata": {},
   "outputs": [
    {
     "data": {
      "image/png": "[encoded data removed]",
      "text/plain": [
       "<Figure size 432x288 with 1 Axes>"
      ]
     },
     "metadata": {
      "needs_background": "light"
     },
     "output_type": "display_data"
    }
   ],
   "source": [
    "plt.figure()\n",
    "plt.plot(t1,p1,lw=4)\n",
    "plt.ylim([0,1000])\n",
    "plt.gca().invert_yaxis()\n",
    "#plt.yscale('log')\n",
    "plt.ylabel(ds.p.standard_name)\n",
    "plt.xlabel('Temperature (C)')\n",
    "plt.grid()\n",
    "plt.show()"
   ]
  },
  {
   "cell_type": "code",
   "execution_count": 8,
   "metadata": {},
   "outputs": [],
   "source": [
    "# initial parcel characteristics\n",
    "TP=t1[0]+273.15;\n",
    "PP=np.min([p1[0],1000.0])\n",
    "ES0=6.112*np.exp(17.67*t1[0]/(243.5+t1[0]))\n",
    "RP=0.622*ES0/(PP-ES0)\n",
    "# convert to the proper units for CAPE module\n",
    "t1k=t1+273.15\n",
    "q1gg=q1*0.001"
   ]
  },
  {
   "cell_type": "code",
   "execution_count": 9,
   "metadata": {},
   "outputs": [],
   "source": [
    "(CAPED,TOB,LNB,IFLAG)=cape(TP,RP,PP,t1k,q1gg,p1,ascent_flag=0,ptop=50,miss_handle=0)"
   ]
  },
  {
   "cell_type": "code",
   "execution_count": 10,
   "metadata": {},
   "outputs": [],
   "source": [
    "(VMAX,PMIN,IFL,TO,LNB)=pi(sst1,msl1,p1,t1,q1,CKCD=0.9,ascent_flag=0,diss_flag=1,V_reduc=0.8,miss_handle=0)"
   ]
  },
  {
   "cell_type": "markdown",
   "metadata": {},
   "source": [
    "### PI module run time"
   ]
  },
  {
   "cell_type": "code",
   "execution_count": 11,
   "metadata": {},
   "outputs": [
    {
     "name": "stdout",
     "output_type": "stream",
     "text": [
      "Average Module Runtime = 0.0008983349800109863\n"
     ]
    },
    {
     "data": {
      "image/png": "[encoded data removed]",
      "text/plain": [
       "<Figure size 432x288 with 1 Axes>"
      ]
     },
     "metadata": {
      "needs_background": "light"
     },
     "output_type": "display_data"
    }
   ],
   "source": [
    "import time\n",
    "nruns=100\n",
    "# time the loop\n",
    "time_check=np.zeros((nruns,))\n",
    "for i in range(nruns):\n",
    "    start = time.time()\n",
    "    check=pi(sst1,msl1,p1,t1,q1,CKCD=0.9,ascent_flag=0,diss_flag=1,V_reduc=0.8,miss_handle=0)\n",
    "    end = time.time()\n",
    "    time_check[i,]=end - start\n",
    "    \n",
    "print('Average Module Runtime = '+str(np.mean(time_check)))\n",
    "plt.figure()\n",
    "plt.hist(time_check)\n",
    "plt.ylabel('Number of runs (out of 100)')\n",
    "plt.xlabel('Time elapsed (s)')\n",
    "plt.show()"
   ]
  },
  {
   "cell_type": "markdown",
   "metadata": {},
   "source": [
    "### Compare output with MATLAB calculations"
   ]
  },
  {
   "cell_type": "code",
   "execution_count": 12,
   "metadata": {},
   "outputs": [
    {
     "name": "stdout",
     "output_type": "stream",
     "text": [
      "-------PYTHON PI-------\n",
      "VMAX_check = 80.94632955983955\n",
      "PMIN_check = 883.9788443509256\n",
      "To_check = 196.1952437788511\n",
      "LNB_check = 83.68336185524495\n",
      "IFL_check = 1\n",
      "-------MATLAB PI-------\n",
      "VMAX = 80.94025179690918\n",
      "PMIN = 884.267888061597\n",
      "To = 196.17747790897812\n",
      "LNB = 83.75044975211635\n",
      "Flag = 1.0\n"
     ]
    }
   ],
   "source": [
    "print('-------PYTHON PI-------')\n",
    "print('VMAX_check = '+str(VMAX))\n",
    "print('PMIN_check = '+str(PMIN))\n",
    "print('To_check = '+str(TO))\n",
    "print('LNB_check = '+str(LNB))\n",
    "print('IFL_check = '+str(IFL))\n",
    "\n",
    "print('-------MATLAB PI-------')\n",
    "print('VMAX = '+str(pi1))\n",
    "print('PMIN = '+str(pmin1))\n",
    "print('To = '+str(to1))\n",
    "print('LNB = '+str(lnb1))\n",
    "print('Flag = '+str(flag1))"
   ]
  },
  {
   "cell_type": "markdown",
   "metadata": {},
   "source": [
    "The Python code appears to be reproducing the MATLAB CAPE and PI outputs. A full quality control is performed in the verify_pi.ipynb notebook."
   ]
  },
  {
   "cell_type": "code",
   "execution_count": null,
   "metadata": {},
   "outputs": [],
   "source": []
  }
 ],
 "metadata": {
  "kernelspec": {
   "display_name": "Python 3",
   "language": "python",
   "name": "python3"
  },
  "language_info": {
   "codemirror_mode": {
    "name": "ipython",
    "version": 3
   },
   "file_extension": ".py",
   "mimetype": "text/x-python",
   "name": "python",
   "nbconvert_exporter": "python",
   "pygments_lexer": "ipython3",
   "version": "3.7.7"
  }
 },
 "nbformat": 4,
 "nbformat_minor": 2
}
